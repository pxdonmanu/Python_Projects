{
 "cells": [
  {
   "cell_type": "markdown",
   "id": "7b6cbcb9",
   "metadata": {},
   "source": [
    "# This is a Python tutorial to learn Data Science"
   ]
  },
  {
   "cell_type": "markdown",
   "id": "085fe8b4",
   "metadata": {},
   "source": [
    "This is my first progam using jupyter to code with python, it's just an example."
   ]
  },
  {
   "cell_type": "code",
   "execution_count": 2,
   "id": "440dfff2",
   "metadata": {},
   "outputs": [
    {
     "name": "stdout",
     "output_type": "stream",
     "text": [
      "Hello to Data Science :)\n"
     ]
    }
   ],
   "source": [
    "print('Hello to Data Science :)')"
   ]
  },
  {
   "cell_type": "markdown",
   "id": "cee716ab",
   "metadata": {},
   "source": [
    "Here is an example of how to put a mathematical formula. To express it we use the symbol $."
   ]
  },
  {
   "cell_type": "markdown",
   "id": "e90b9de9",
   "metadata": {},
   "source": [
    "$a=b+c$"
   ]
  },
  {
   "cell_type": "markdown",
   "id": "47982b40",
   "metadata": {},
   "source": [
    "# Variables"
   ]
  },
  {
   "cell_type": "markdown",
   "id": "a2c3340f",
   "metadata": {},
   "source": [
    "+ We can use variables to express an assigment of a value."
   ]
  },
  {
   "cell_type": "markdown",
   "id": "95fe56e7",
   "metadata": {},
   "source": [
    "$x=2$ (int)\n",
    "\n",
    "$y=5$ (int)\n",
    "\n",
    "$xy=7.7$ (float)"
   ]
  },
  {
   "cell_type": "markdown",
   "id": "6a7775c8",
   "metadata": {},
   "source": [
    "+ We can also express two variables in a same sentence and they can be of different types."
   ]
  },
  {
   "cell_type": "markdown",
   "id": "96f3b987",
   "metadata": {},
   "source": [
    "$a,b=4,5.0$"
   ]
  },
  {
   "cell_type": "markdown",
   "id": "deb5f0b6",
   "metadata": {},
   "source": [
    "+ \"del\" is used to remove a variable from memory.\n",
    "And if we try to print the variable previously deleted the result will be an error."
   ]
  },
  {
   "cell_type": "code",
   "execution_count": 2,
   "id": "d66f40b0",
   "metadata": {},
   "outputs": [],
   "source": [
    "x=7"
   ]
  },
  {
   "cell_type": "code",
   "execution_count": 3,
   "id": "5b572e92",
   "metadata": {},
   "outputs": [
    {
     "name": "stdout",
     "output_type": "stream",
     "text": [
      "Variable   Type    Data/Info\n",
      "----------------------------\n",
      "x          int     7\n"
     ]
    }
   ],
   "source": [
    "%whos"
   ]
  },
  {
   "cell_type": "code",
   "execution_count": 4,
   "id": "cdf83806",
   "metadata": {},
   "outputs": [
    {
     "name": "stdout",
     "output_type": "stream",
     "text": [
      "<class 'int'>\n"
     ]
    }
   ],
   "source": [
    "print(type(x))"
   ]
  },
  {
   "cell_type": "code",
   "execution_count": 5,
   "id": "9e5244dc",
   "metadata": {},
   "outputs": [],
   "source": [
    "a,b,c,d,e=7,6.5,\"ey!\",-3,23"
   ]
  },
  {
   "cell_type": "code",
   "execution_count": 6,
   "id": "0f9d3813",
   "metadata": {},
   "outputs": [
    {
     "name": "stdout",
     "output_type": "stream",
     "text": [
      "Variable   Type     Data/Info\n",
      "-----------------------------\n",
      "a          int      7\n",
      "b          float    6.5\n",
      "c          str      ey!\n",
      "d          int      -3\n",
      "e          int      23\n",
      "x          int      7\n"
     ]
    }
   ],
   "source": [
    "%whos"
   ]
  },
  {
   "cell_type": "code",
   "execution_count": 7,
   "id": "663fd8f5",
   "metadata": {},
   "outputs": [],
   "source": [
    "del e"
   ]
  },
  {
   "cell_type": "code",
   "execution_count": 8,
   "id": "b13baabe",
   "metadata": {},
   "outputs": [
    {
     "name": "stdout",
     "output_type": "stream",
     "text": [
      "Variable   Type     Data/Info\n",
      "-----------------------------\n",
      "a          int      7\n",
      "b          float    6.5\n",
      "c          str      ey!\n",
      "d          int      -3\n",
      "x          int      7\n"
     ]
    }
   ],
   "source": [
    "%whos"
   ]
  },
  {
   "cell_type": "markdown",
   "id": "90888c89",
   "metadata": {},
   "source": [
    "+ We can define complex numbers."
   ]
  },
  {
   "cell_type": "code",
   "execution_count": 9,
   "id": "612e865d",
   "metadata": {},
   "outputs": [],
   "source": [
    "cmp=4+7j"
   ]
  },
  {
   "cell_type": "code",
   "execution_count": 11,
   "id": "4fe586ba",
   "metadata": {},
   "outputs": [
    {
     "name": "stdout",
     "output_type": "stream",
     "text": [
      "<class 'complex'>\n"
     ]
    }
   ],
   "source": [
    "print(type(cmp))"
   ]
  },
  {
   "cell_type": "markdown",
   "id": "67407d08",
   "metadata": {},
   "source": [
    "# Operators"
   ]
  },
  {
   "cell_type": "markdown",
   "id": "aefc68cb",
   "metadata": {},
   "source": [
    "+ We have different mathematical operators. There are some examples."
   ]
  },
  {
   "cell_type": "code",
   "execution_count": 1,
   "id": "ae237d9a",
   "metadata": {},
   "outputs": [
    {
     "data": {
      "text/plain": [
       "79.5"
      ]
     },
     "execution_count": 1,
     "metadata": {},
     "output_type": "execute_result"
    }
   ],
   "source": [
    "45+34.5"
   ]
  },
  {
   "cell_type": "code",
   "execution_count": 2,
   "id": "9532ec07",
   "metadata": {},
   "outputs": [
    {
     "data": {
      "text/plain": [
       "-510.8"
      ]
     },
     "execution_count": 2,
     "metadata": {},
     "output_type": "execute_result"
    }
   ],
   "source": [
    "34.2-545"
   ]
  },
  {
   "cell_type": "code",
   "execution_count": 3,
   "id": "5b4b8819",
   "metadata": {},
   "outputs": [
    {
     "data": {
      "text/plain": [
       "40"
      ]
     },
     "execution_count": 3,
     "metadata": {},
     "output_type": "execute_result"
    }
   ],
   "source": [
    "2*20"
   ]
  },
  {
   "cell_type": "code",
   "execution_count": 4,
   "id": "dfefc6bc",
   "metadata": {},
   "outputs": [
    {
     "data": {
      "text/plain": [
       "2.0"
      ]
     },
     "execution_count": 4,
     "metadata": {},
     "output_type": "execute_result"
    }
   ],
   "source": [
    "30/15"
   ]
  },
  {
   "cell_type": "code",
   "execution_count": 6,
   "id": "2d96d937",
   "metadata": {},
   "outputs": [
    {
     "data": {
      "text/plain": [
       "1"
      ]
     },
     "execution_count": 6,
     "metadata": {},
     "output_type": "execute_result"
    }
   ],
   "source": [
    "34%3"
   ]
  },
  {
   "cell_type": "code",
   "execution_count": 7,
   "id": "6264fff0",
   "metadata": {},
   "outputs": [
    {
     "data": {
      "text/plain": [
       "11"
      ]
     },
     "execution_count": 7,
     "metadata": {},
     "output_type": "execute_result"
    }
   ],
   "source": [
    "23//2"
   ]
  },
  {
   "cell_type": "code",
   "execution_count": 8,
   "id": "612f67c6",
   "metadata": {},
   "outputs": [
    {
     "data": {
      "text/plain": [
       "1024"
      ]
     },
     "execution_count": 8,
     "metadata": {},
     "output_type": "execute_result"
    }
   ],
   "source": [
    "2**10"
   ]
  },
  {
   "cell_type": "markdown",
   "id": "be7e9dc7",
   "metadata": {},
   "source": [
    "+ We can also add strings."
   ]
  },
  {
   "cell_type": "code",
   "execution_count": 10,
   "id": "2bbc2466",
   "metadata": {},
   "outputs": [
    {
     "name": "stdout",
     "output_type": "stream",
     "text": [
      "it is an example of how to add strings\n"
     ]
    }
   ],
   "source": [
    "s1='it is '\n",
    "s2='an example of how to add strings'\n",
    "resultstr=s1+s2\n",
    "print(resultstr)"
   ]
  },
  {
   "cell_type": "markdown",
   "id": "6339bba9",
   "metadata": {},
   "source": [
    "+ There's an operator that show the last value saved of an operation \"_\"."
   ]
  },
  {
   "cell_type": "code",
   "execution_count": 11,
   "id": "83e24290",
   "metadata": {},
   "outputs": [
    {
     "data": {
      "text/plain": [
       "1024"
      ]
     },
     "execution_count": 11,
     "metadata": {},
     "output_type": "execute_result"
    }
   ],
   "source": [
    "_"
   ]
  },
  {
   "cell_type": "markdown",
   "id": "077bc37c",
   "metadata": {},
   "source": [
    "# Type Bool"
   ]
  },
  {
   "cell_type": "markdown",
   "id": "d01da63f",
   "metadata": {},
   "source": [
    "+ There are variables that express just two values, true or false."
   ]
  },
  {
   "cell_type": "code",
   "execution_count": 12,
   "id": "413bf839",
   "metadata": {},
   "outputs": [],
   "source": [
    "a=True\n",
    "b=True\n",
    "c=False"
   ]
  },
  {
   "cell_type": "code",
   "execution_count": 13,
   "id": "6b28b5d7",
   "metadata": {},
   "outputs": [
    {
     "name": "stdout",
     "output_type": "stream",
     "text": [
      "True\n",
      "False\n",
      "False\n"
     ]
    }
   ],
   "source": [
    "print(a and b)\n",
    "print(a and c)\n",
    "print(c and a)"
   ]
  },
  {
   "cell_type": "code",
   "execution_count": 14,
   "id": "f34889c0",
   "metadata": {},
   "outputs": [
    {
     "name": "stdout",
     "output_type": "stream",
     "text": [
      "True\n"
     ]
    }
   ],
   "source": [
    "d=a or c\n",
    "print(d)"
   ]
  },
  {
   "cell_type": "code",
   "execution_count": 15,
   "id": "810b3740",
   "metadata": {},
   "outputs": [
    {
     "data": {
      "text/plain": [
       "False"
      ]
     },
     "execution_count": 15,
     "metadata": {},
     "output_type": "execute_result"
    }
   ],
   "source": [
    "not(a)"
   ]
  },
  {
   "cell_type": "code",
   "execution_count": 16,
   "id": "27f6bf3a",
   "metadata": {},
   "outputs": [
    {
     "data": {
      "text/plain": [
       "False"
      ]
     },
     "execution_count": 16,
     "metadata": {},
     "output_type": "execute_result"
    }
   ],
   "source": [
    "not(b)"
   ]
  },
  {
   "cell_type": "code",
   "execution_count": 17,
   "id": "75ac1a22",
   "metadata": {},
   "outputs": [
    {
     "data": {
      "text/plain": [
       "True"
      ]
     },
     "execution_count": 17,
     "metadata": {},
     "output_type": "execute_result"
    }
   ],
   "source": [
    "not(c)"
   ]
  },
  {
   "cell_type": "code",
   "execution_count": 18,
   "id": "4de16bb8",
   "metadata": {},
   "outputs": [
    {
     "data": {
      "text/plain": [
       "False"
      ]
     },
     "execution_count": 18,
     "metadata": {},
     "output_type": "execute_result"
    }
   ],
   "source": [
    "not(d)"
   ]
  },
  {
   "cell_type": "code",
   "execution_count": 19,
   "id": "96d6bfe5",
   "metadata": {},
   "outputs": [
    {
     "data": {
      "text/plain": [
       "True"
      ]
     },
     "execution_count": 19,
     "metadata": {},
     "output_type": "execute_result"
    }
   ],
   "source": [
    "(a and b) or (c and d)"
   ]
  },
  {
   "cell_type": "code",
   "execution_count": 20,
   "id": "ee4f6f56",
   "metadata": {},
   "outputs": [
    {
     "data": {
      "text/plain": [
       "False"
      ]
     },
     "execution_count": 20,
     "metadata": {},
     "output_type": "execute_result"
    }
   ],
   "source": [
    "not((a and b) or (c and d))"
   ]
  },
  {
   "cell_type": "markdown",
   "id": "72386d62",
   "metadata": {},
   "source": [
    "# Comparison"
   ]
  },
  {
   "cell_type": "markdown",
   "id": "4653662b",
   "metadata": {},
   "source": [
    "+ There are different ways to compare two or more values and determinate their features. "
   ]
  },
  {
   "cell_type": "code",
   "execution_count": 24,
   "id": "5e342209",
   "metadata": {},
   "outputs": [],
   "source": [
    "x=3.5\n",
    "y=7.0\n",
    "z=7.0"
   ]
  },
  {
   "cell_type": "code",
   "execution_count": 23,
   "id": "48105d3e",
   "metadata": {},
   "outputs": [
    {
     "data": {
      "text/plain": [
       "False"
      ]
     },
     "execution_count": 23,
     "metadata": {},
     "output_type": "execute_result"
    }
   ],
   "source": [
    "x==y"
   ]
  },
  {
   "cell_type": "code",
   "execution_count": 26,
   "id": "ff1a5b7f",
   "metadata": {},
   "outputs": [
    {
     "data": {
      "text/plain": [
       "True"
      ]
     },
     "execution_count": 26,
     "metadata": {},
     "output_type": "execute_result"
    }
   ],
   "source": [
    "y==z"
   ]
  },
  {
   "cell_type": "code",
   "execution_count": 27,
   "id": "308f509d",
   "metadata": {},
   "outputs": [
    {
     "data": {
      "text/plain": [
       "True"
      ]
     },
     "execution_count": 27,
     "metadata": {},
     "output_type": "execute_result"
    }
   ],
   "source": [
    "x!=z"
   ]
  },
  {
   "cell_type": "code",
   "execution_count": 28,
   "id": "4a2d4411",
   "metadata": {},
   "outputs": [
    {
     "data": {
      "text/plain": [
       "True"
      ]
     },
     "execution_count": 28,
     "metadata": {},
     "output_type": "execute_result"
    }
   ],
   "source": [
    "y>x"
   ]
  },
  {
   "cell_type": "code",
   "execution_count": 29,
   "id": "37be803a",
   "metadata": {},
   "outputs": [
    {
     "data": {
      "text/plain": [
       "True"
      ]
     },
     "execution_count": 29,
     "metadata": {},
     "output_type": "execute_result"
    }
   ],
   "source": [
    "x<z"
   ]
  },
  {
   "cell_type": "code",
   "execution_count": 30,
   "id": "9f6b2c15",
   "metadata": {},
   "outputs": [
    {
     "data": {
      "text/plain": [
       "True"
      ]
     },
     "execution_count": 30,
     "metadata": {},
     "output_type": "execute_result"
    }
   ],
   "source": [
    "y>=z"
   ]
  },
  {
   "cell_type": "code",
   "execution_count": 31,
   "id": "b0a10ae5",
   "metadata": {},
   "outputs": [
    {
     "data": {
      "text/plain": [
       "True"
      ]
     },
     "execution_count": 31,
     "metadata": {},
     "output_type": "execute_result"
    }
   ],
   "source": [
    "x<=y"
   ]
  },
  {
   "cell_type": "code",
   "execution_count": 32,
   "id": "cc977446",
   "metadata": {},
   "outputs": [
    {
     "data": {
      "text/plain": [
       "True"
      ]
     },
     "execution_count": 32,
     "metadata": {},
     "output_type": "execute_result"
    }
   ],
   "source": [
    "3==3.0"
   ]
  },
  {
   "cell_type": "code",
   "execution_count": 33,
   "id": "a7cd7c61",
   "metadata": {},
   "outputs": [],
   "source": [
    "x=4\n",
    "y=9\n",
    "z=8.3\n",
    "r=-3"
   ]
  },
  {
   "cell_type": "code",
   "execution_count": 34,
   "id": "67d926be",
   "metadata": {},
   "outputs": [
    {
     "data": {
      "text/plain": [
       "True"
      ]
     },
     "execution_count": 34,
     "metadata": {},
     "output_type": "execute_result"
    }
   ],
   "source": [
    "(x<y) and (z<y) or (r==x)"
   ]
  },
  {
   "cell_type": "code",
   "execution_count": 35,
   "id": "ffd9c2a5",
   "metadata": {},
   "outputs": [
    {
     "data": {
      "text/plain": [
       "False"
      ]
     },
     "execution_count": 35,
     "metadata": {},
     "output_type": "execute_result"
    }
   ],
   "source": [
    "(r==x) and (x<y) or (z>y)"
   ]
  },
  {
   "cell_type": "code",
   "execution_count": 36,
   "id": "83063b74",
   "metadata": {},
   "outputs": [
    {
     "data": {
      "text/plain": [
       "True"
      ]
     },
     "execution_count": 36,
     "metadata": {},
     "output_type": "execute_result"
    }
   ],
   "source": [
    "True and True or False and True "
   ]
  },
  {
   "cell_type": "code",
   "execution_count": 37,
   "id": "80e22ffd",
   "metadata": {},
   "outputs": [
    {
     "data": {
      "text/plain": [
       "False"
      ]
     },
     "execution_count": 37,
     "metadata": {},
     "output_type": "execute_result"
    }
   ],
   "source": [
    "True and False or False and True"
   ]
  },
  {
   "cell_type": "code",
   "execution_count": 38,
   "id": "fd805674",
   "metadata": {},
   "outputs": [
    {
     "data": {
      "text/plain": [
       "False"
      ]
     },
     "execution_count": 38,
     "metadata": {},
     "output_type": "execute_result"
    }
   ],
   "source": [
    "(True or False) and (False and False)"
   ]
  },
  {
   "cell_type": "code",
   "execution_count": 39,
   "id": "097af97c",
   "metadata": {},
   "outputs": [
    {
     "name": "stdout",
     "output_type": "stream",
     "text": [
      "False\n"
     ]
    }
   ],
   "source": [
    "print((not(2!=3) and True) or (False and True))"
   ]
  },
  {
   "cell_type": "markdown",
   "id": "712e2f96",
   "metadata": {},
   "source": [
    "# Some useful functions"
   ]
  },
  {
   "cell_type": "markdown",
   "id": "25440ed4",
   "metadata": {},
   "source": [
    "+ round() function rounds the input value to a specified number of places or the nearest integer."
   ]
  },
  {
   "cell_type": "code",
   "execution_count": 40,
   "id": "975024f8",
   "metadata": {},
   "outputs": [
    {
     "name": "stdout",
     "output_type": "stream",
     "text": [
      "3\n"
     ]
    }
   ],
   "source": [
    "print(round(3.141592))"
   ]
  },
  {
   "cell_type": "code",
   "execution_count": 41,
   "id": "fa93b8a1",
   "metadata": {},
   "outputs": [
    {
     "name": "stdout",
     "output_type": "stream",
     "text": [
      "3.1416\n"
     ]
    }
   ],
   "source": [
    "print(round(3.1415926535,4))"
   ]
  },
  {
   "cell_type": "code",
   "execution_count": 42,
   "id": "a96d1441",
   "metadata": {},
   "outputs": [
    {
     "name": "stdout",
     "output_type": "stream",
     "text": [
      "6\n"
     ]
    }
   ],
   "source": [
    "print(round(5.5))"
   ]
  },
  {
   "cell_type": "markdown",
   "id": "ff0b8fab",
   "metadata": {},
   "source": [
    "+ divmod(x,y) outputs the quotient and the remainder in a tuple. "
   ]
  },
  {
   "cell_type": "code",
   "execution_count": 43,
   "id": "6f8696bc",
   "metadata": {},
   "outputs": [
    {
     "name": "stdout",
     "output_type": "stream",
     "text": [
      "(5, 2)\n"
     ]
    }
   ],
   "source": [
    "print(divmod(27,5))"
   ]
  },
  {
   "cell_type": "code",
   "execution_count": 44,
   "id": "5fc11861",
   "metadata": {},
   "outputs": [
    {
     "name": "stdout",
     "output_type": "stream",
     "text": [
      "(5, 0)\n"
     ]
    }
   ],
   "source": [
    "print(divmod(10,2))"
   ]
  },
  {
   "cell_type": "code",
   "execution_count": 45,
   "id": "937db979",
   "metadata": {},
   "outputs": [
    {
     "name": "stdout",
     "output_type": "stream",
     "text": [
      "(7, 2)\n"
     ]
    }
   ],
   "source": [
    "t=divmod(23,3)\n",
    "print(t)"
   ]
  },
  {
   "cell_type": "code",
   "execution_count": 46,
   "id": "78ddcdcb",
   "metadata": {},
   "outputs": [
    {
     "name": "stdout",
     "output_type": "stream",
     "text": [
      "<class 'tuple'>\n"
     ]
    }
   ],
   "source": [
    "print(type(t))"
   ]
  },
  {
   "cell_type": "markdown",
   "id": "38fb4892",
   "metadata": {},
   "source": [
    "We can access a specific element in the tuple."
   ]
  },
  {
   "cell_type": "code",
   "execution_count": 47,
   "id": "312f07e5",
   "metadata": {},
   "outputs": [
    {
     "data": {
      "text/plain": [
       "7"
      ]
     },
     "execution_count": 47,
     "metadata": {},
     "output_type": "execute_result"
    }
   ],
   "source": [
    "t[0]"
   ]
  },
  {
   "cell_type": "code",
   "execution_count": 48,
   "id": "fd59974f",
   "metadata": {},
   "outputs": [
    {
     "data": {
      "text/plain": [
       "2"
      ]
     },
     "execution_count": 48,
     "metadata": {},
     "output_type": "execute_result"
    }
   ],
   "source": [
    "t[1]"
   ]
  },
  {
   "cell_type": "markdown",
   "id": "675c3b2b",
   "metadata": {},
   "source": [
    "+ isinstance() returns True, if the first argument is an instance of that class. Multiple classes can also be check at once."
   ]
  },
  {
   "cell_type": "code",
   "execution_count": 49,
   "id": "c02d0e32",
   "metadata": {},
   "outputs": [
    {
     "name": "stdout",
     "output_type": "stream",
     "text": [
      "True\n"
     ]
    }
   ],
   "source": [
    "print(isinstance(1,int))"
   ]
  },
  {
   "cell_type": "code",
   "execution_count": 51,
   "id": "c68993d7",
   "metadata": {},
   "outputs": [
    {
     "name": "stdout",
     "output_type": "stream",
     "text": [
      "False\n"
     ]
    }
   ],
   "source": [
    "print(isinstance(4.5,int))"
   ]
  },
  {
   "cell_type": "code",
   "execution_count": 55,
   "id": "dfb8d87a",
   "metadata": {},
   "outputs": [
    {
     "name": "stdout",
     "output_type": "stream",
     "text": [
      "True\n"
     ]
    }
   ],
   "source": [
    "print(isinstance(45.3,float))"
   ]
  },
  {
   "cell_type": "code",
   "execution_count": 56,
   "id": "6e853cc7",
   "metadata": {},
   "outputs": [
    {
     "name": "stdout",
     "output_type": "stream",
     "text": [
      "True\n"
     ]
    }
   ],
   "source": [
    "print(isinstance(34.5,(int,float)))"
   ]
  },
  {
   "cell_type": "code",
   "execution_count": 59,
   "id": "a5254f8c",
   "metadata": {},
   "outputs": [
    {
     "name": "stdout",
     "output_type": "stream",
     "text": [
      "False\n"
     ]
    }
   ],
   "source": [
    "print(isinstance(3+4j,(int,float)))"
   ]
  },
  {
   "cell_type": "code",
   "execution_count": 60,
   "id": "ed597fcf",
   "metadata": {},
   "outputs": [
    {
     "name": "stdout",
     "output_type": "stream",
     "text": [
      "True\n"
     ]
    }
   ],
   "source": [
    "print(isinstance(3+4j,(complex,int,float)))"
   ]
  },
  {
   "cell_type": "markdown",
   "id": "97d71b9b",
   "metadata": {},
   "source": [
    "+ pow(x,y,z) x raise to the power y and remainder by z."
   ]
  },
  {
   "cell_type": "code",
   "execution_count": 63,
   "id": "d6a1e196",
   "metadata": {},
   "outputs": [
    {
     "name": "stdout",
     "output_type": "stream",
     "text": [
      "8\n"
     ]
    }
   ],
   "source": [
    "print(pow(2,3))"
   ]
  },
  {
   "cell_type": "code",
   "execution_count": 64,
   "id": "6b478e62",
   "metadata": {},
   "outputs": [
    {
     "name": "stdout",
     "output_type": "stream",
     "text": [
      "0\n"
     ]
    }
   ],
   "source": [
    "print(pow(2,3,2))"
   ]
  },
  {
   "cell_type": "markdown",
   "id": "87cb5930",
   "metadata": {},
   "source": [
    "The last expression can also be used by using:"
   ]
  },
  {
   "cell_type": "code",
   "execution_count": 65,
   "id": "fb7fbc26",
   "metadata": {},
   "outputs": [
    {
     "data": {
      "text/plain": [
       "0"
      ]
     },
     "execution_count": 65,
     "metadata": {},
     "output_type": "execute_result"
    }
   ],
   "source": [
    "2**3%2"
   ]
  },
  {
   "cell_type": "markdown",
   "id": "54302b83",
   "metadata": {},
   "source": [
    "+ input() allows the user to enter data. All data to be entered shall be of type string but we can parse them."
   ]
  },
  {
   "cell_type": "code",
   "execution_count": 67,
   "id": "b75168d2",
   "metadata": {},
   "outputs": [
    {
     "name": "stdout",
     "output_type": "stream",
     "text": [
      "Enter a number: 23\n"
     ]
    }
   ],
   "source": [
    "inp=input('Enter a number: ')"
   ]
  },
  {
   "cell_type": "code",
   "execution_count": 68,
   "id": "852cadae",
   "metadata": {},
   "outputs": [
    {
     "name": "stdout",
     "output_type": "stream",
     "text": [
      "Enter a phrase: Ey wasap!\n"
     ]
    }
   ],
   "source": [
    "inp=input('Enter a phrase: ')"
   ]
  },
  {
   "cell_type": "code",
   "execution_count": 69,
   "id": "7b017d4e",
   "metadata": {},
   "outputs": [
    {
     "name": "stdout",
     "output_type": "stream",
     "text": [
      "Enter another number: 45.3\n"
     ]
    }
   ],
   "source": [
    "inp=input('Enter another number: ')"
   ]
  },
  {
   "cell_type": "code",
   "execution_count": 70,
   "id": "f41abcf4",
   "metadata": {},
   "outputs": [
    {
     "name": "stdout",
     "output_type": "stream",
     "text": [
      "<class 'str'>\n"
     ]
    }
   ],
   "source": [
    "print(type(inp))"
   ]
  },
  {
   "cell_type": "code",
   "execution_count": 72,
   "id": "a0e24f28",
   "metadata": {},
   "outputs": [
    {
     "data": {
      "text/plain": [
       "float"
      ]
     },
     "execution_count": 72,
     "metadata": {},
     "output_type": "execute_result"
    }
   ],
   "source": [
    "inp=float(inp)\n",
    "type(inp)"
   ]
  },
  {
   "cell_type": "code",
   "execution_count": 75,
   "id": "3133248b",
   "metadata": {},
   "outputs": [
    {
     "name": "stdout",
     "output_type": "stream",
     "text": [
      "Enter another number: 4.7\n"
     ]
    }
   ],
   "source": [
    "inp=float(input('Enter another number: '))"
   ]
  },
  {
   "cell_type": "code",
   "execution_count": 76,
   "id": "671a0b4b",
   "metadata": {},
   "outputs": [
    {
     "name": "stdout",
     "output_type": "stream",
     "text": [
      "<class 'float'>\n"
     ]
    }
   ],
   "source": [
    "print(type(inp))"
   ]
  },
  {
   "cell_type": "markdown",
   "id": "ef1136e2",
   "metadata": {},
   "source": [
    "+ TIP - To find out a little about the characteristics of a method, you must enter the name of the method followed by a question mark."
   ]
  },
  {
   "cell_type": "code",
   "execution_count": 77,
   "id": "53b26834",
   "metadata": {},
   "outputs": [],
   "source": [
    "pow?"
   ]
  },
  {
   "cell_type": "code",
   "execution_count": 78,
   "id": "ad05262b",
   "metadata": {},
   "outputs": [],
   "source": [
    "input?"
   ]
  },
  {
   "cell_type": "code",
   "execution_count": 79,
   "id": "7c9ddc5b",
   "metadata": {},
   "outputs": [],
   "source": [
    "isinstance?"
   ]
  },
  {
   "cell_type": "markdown",
   "id": "34ce84b4",
   "metadata": {},
   "source": [
    "We can get more information if we use the help method followed by the method name."
   ]
  },
  {
   "cell_type": "code",
   "execution_count": 80,
   "id": "81655f3d",
   "metadata": {},
   "outputs": [
    {
     "name": "stdout",
     "output_type": "stream",
     "text": [
      "Help on built-in function divmod in module builtins:\n",
      "\n",
      "divmod(x, y, /)\n",
      "    Return the tuple (x//y, x%y).  Invariant: div*y + mod == x.\n",
      "\n"
     ]
    }
   ],
   "source": [
    "help(divmod)"
   ]
  },
  {
   "cell_type": "markdown",
   "id": "d1c4e3c0",
   "metadata": {},
   "source": [
    "# Exercises"
   ]
  },
  {
   "cell_type": "markdown",
   "id": "19bb2a80",
   "metadata": {},
   "source": [
    "+ Print only the bigger number."
   ]
  },
  {
   "cell_type": "code",
   "execution_count": 5,
   "id": "ca0a29c6",
   "metadata": {},
   "outputs": [
    {
     "name": "stdout",
     "output_type": "stream",
     "text": [
      "Enter a number: 3\n",
      "Enter a second number: 3\n",
      "3.0 and 3.0 are the same number\n"
     ]
    }
   ],
   "source": [
    "a=float(input('Enter a number: '))\n",
    "b=float(input('Enter a second number: '))\n",
    "if a>b:\n",
    "    print(a, 'is greater than', b)\n",
    "elif a==b:\n",
    "    print(a, 'and', b, 'are the same number')\n",
    "else:\n",
    "    print(b, 'is greater than', a)"
   ]
  },
  {
   "cell_type": "markdown",
   "id": "a97f46fe",
   "metadata": {},
   "source": [
    "+ Another way to write the last code is:"
   ]
  },
  {
   "cell_type": "code",
   "execution_count": 9,
   "id": "371a3abf",
   "metadata": {},
   "outputs": [
    {
     "name": "stdout",
     "output_type": "stream",
     "text": [
      "A\n"
     ]
    }
   ],
   "source": [
    "a=11\n",
    "b=10\n",
    "print('A') if a>b else print('=') if a==b else print('B') "
   ]
  },
  {
   "cell_type": "markdown",
   "id": "3cb49a49",
   "metadata": {},
   "source": [
    "+ Other examples:"
   ]
  },
  {
   "cell_type": "code",
   "execution_count": 11,
   "id": "3ee221f3",
   "metadata": {},
   "outputs": [
    {
     "name": "stdout",
     "output_type": "stream",
     "text": [
      "Enter marks: 81\n",
      "A- grade\n"
     ]
    }
   ],
   "source": [
    "a=int(input('Enter marks: '))\n",
    "if a>= 85:\n",
    "    print('A grade')\n",
    "elif (a<85) and (a>=80):\n",
    "    print('A- grade')\n",
    "elif (a<80) and (a>=75):\n",
    "    print('B grade')\n",
    "elif (a<75) and (a>=70):\n",
    "    print('B- grade')\n",
    "else:\n",
    "    print('Bellow average')"
   ]
  },
  {
   "cell_type": "code",
   "execution_count": 1,
   "id": "d3c0d5f5",
   "metadata": {},
   "outputs": [
    {
     "name": "stdout",
     "output_type": "stream",
     "text": [
      "Enter the cost of the product: $5001\n",
      "Are u a millionaire?\n"
     ]
    }
   ],
   "source": [
    "cost=float(input('Enter the cost of the product: $'))\n",
    "if cost>0 and cost<=300:\n",
    "    print('This product is cheap')\n",
    "elif cost>300 and cost<=1000:\n",
    "    print('This product has an intermediate price')\n",
    "elif cost>1000 and cost<=5000:\n",
    "    print('This product is expensive')\n",
    "else: \n",
    "    print('Are u a millionaire?')"
   ]
  },
  {
   "cell_type": "markdown",
   "id": "fcb96797",
   "metadata": {},
   "source": [
    "+ How to write comments."
   ]
  },
  {
   "cell_type": "code",
   "execution_count": 16,
   "id": "3a99a179",
   "metadata": {},
   "outputs": [
    {
     "name": "stdout",
     "output_type": "stream",
     "text": [
      "Enter a real number: -20.56\n",
      "20\n"
     ]
    }
   ],
   "source": [
    "# Single comment\n",
    "\"\"\"\n",
    "Large comment. \n",
    "User will enter a floating point number let say 238.915\n",
    "Your task is to find the integer portion before de point.\n",
    "\"\"\"\n",
    "\n",
    "num=float(input('Enter a real number: '))\n",
    "y=round(num)\n",
    "\n",
    "if num>0:\n",
    "    if y>num:\n",
    "        ym=y-1\n",
    "    else:\n",
    "        ym=y\n",
    "    print(ym)\n",
    "else:\n",
    "    nm=num*(-1)\n",
    "    rnm=round(nm)\n",
    "    if rnm>nm:\n",
    "        tm=rnm-1\n",
    "    else:\n",
    "        tm=rnm\n",
    "    print(tm)"
   ]
  },
  {
   "cell_type": "markdown",
   "id": "4396741b",
   "metadata": {},
   "source": [
    "# Loops"
   ]
  },
  {
   "cell_type": "markdown",
   "id": "277490a2",
   "metadata": {},
   "source": [
    "+ While loop (example-print numbers 1 to 100)."
   ]
  },
  {
   "cell_type": "code",
   "execution_count": 1,
   "id": "fc417520",
   "metadata": {},
   "outputs": [
    {
     "name": "stdout",
     "output_type": "stream",
     "text": [
      "1\n",
      "2\n",
      "3\n",
      "4\n",
      "5\n",
      "6\n",
      "7\n",
      "8\n",
      "9\n",
      "10\n",
      "11\n",
      "12\n",
      "13\n",
      "14\n",
      "15\n",
      "16\n",
      "17\n",
      "18\n",
      "19\n",
      "20\n",
      "21\n",
      "22\n",
      "23\n",
      "24\n",
      "25\n",
      "26\n",
      "27\n",
      "28\n",
      "29\n",
      "30\n",
      "31\n",
      "32\n",
      "33\n",
      "34\n",
      "35\n",
      "36\n",
      "37\n",
      "38\n",
      "39\n",
      "40\n",
      "41\n",
      "42\n",
      "43\n",
      "44\n",
      "45\n",
      "46\n",
      "47\n",
      "48\n",
      "49\n",
      "50\n",
      "51\n",
      "52\n",
      "53\n",
      "54\n",
      "55\n",
      "56\n",
      "57\n",
      "58\n",
      "59\n",
      "60\n",
      "61\n",
      "62\n",
      "63\n",
      "64\n",
      "65\n",
      "66\n",
      "67\n",
      "68\n",
      "69\n",
      "70\n",
      "71\n",
      "72\n",
      "73\n",
      "74\n",
      "75\n",
      "76\n",
      "77\n",
      "78\n",
      "79\n",
      "80\n",
      "81\n",
      "82\n",
      "83\n",
      "84\n",
      "85\n",
      "86\n",
      "87\n",
      "88\n",
      "89\n",
      "90\n",
      "91\n",
      "92\n",
      "93\n",
      "94\n",
      "95\n",
      "96\n",
      "97\n",
      "98\n",
      "99\n",
      "100\n",
      "Finish\n"
     ]
    }
   ],
   "source": [
    "i=1\n",
    "while i<=100:\n",
    "    print(i)\n",
    "    i+=1\n",
    "print('Finish')"
   ]
  },
  {
   "cell_type": "code",
   "execution_count": 2,
   "id": "9b48d4ad",
   "metadata": {},
   "outputs": [
    {
     "name": "stdout",
     "output_type": "stream",
     "text": [
      "100\n",
      "99\n",
      "98\n",
      "97\n",
      "96\n",
      "95\n",
      "94\n",
      "93\n",
      "92\n",
      "91\n",
      "90\n",
      "89\n",
      "88\n",
      "87\n",
      "86\n",
      "85\n",
      "84\n",
      "83\n",
      "82\n",
      "81\n",
      "80\n",
      "79\n",
      "78\n",
      "77\n",
      "76\n",
      "75\n",
      "74\n",
      "73\n",
      "72\n",
      "71\n",
      "70\n",
      "69\n",
      "68\n",
      "67\n",
      "66\n",
      "65\n",
      "64\n",
      "63\n",
      "62\n",
      "61\n",
      "60\n",
      "59\n",
      "58\n",
      "57\n",
      "56\n",
      "55\n",
      "54\n",
      "53\n",
      "52\n",
      "51\n",
      "50\n",
      "49\n",
      "48\n",
      "47\n",
      "46\n",
      "45\n",
      "44\n",
      "43\n",
      "42\n",
      "41\n",
      "40\n",
      "39\n",
      "38\n",
      "37\n",
      "36\n",
      "35\n",
      "34\n",
      "33\n",
      "32\n",
      "31\n",
      "30\n",
      "29\n",
      "28\n",
      "27\n",
      "26\n",
      "25\n",
      "24\n",
      "23\n",
      "22\n",
      "21\n",
      "20\n",
      "19\n",
      "18\n",
      "17\n",
      "16\n",
      "15\n",
      "14\n",
      "13\n",
      "12\n",
      "11\n",
      "10\n",
      "9\n",
      "8\n",
      "7\n",
      "6\n",
      "5\n",
      "4\n",
      "3\n",
      "2\n",
      "1\n",
      "Done\n"
     ]
    }
   ],
   "source": [
    "i=100\n",
    "while i>=1:\n",
    "    print(i)\n",
    "    i-=1\n",
    "print('Done')"
   ]
  },
  {
   "cell_type": "code",
   "execution_count": 4,
   "id": "bdbf0da2",
   "metadata": {},
   "outputs": [
    {
     "name": "stdout",
     "output_type": "stream",
     "text": [
      "Enter the number you want to print up to: 7\n",
      "1\n",
      "2\n",
      "3\n",
      "4\n",
      "5\n",
      "6\n",
      "7\n",
      "Done\n"
     ]
    }
   ],
   "source": [
    "i=int(input('Enter the number you want to print up to: '))\n",
    "ini=1\n",
    "while ini<=i:\n",
    "    print(ini)\n",
    "    ini+=1\n",
    "print('Done')"
   ]
  },
  {
   "cell_type": "code",
   "execution_count": 9,
   "id": "54d43650",
   "metadata": {},
   "outputs": [
    {
     "name": "stdout",
     "output_type": "stream",
     "text": [
      "Enter a number: 10\n",
      "This is your number: 1\n",
      "And this is its square: 1\n",
      "This is your number: 2\n",
      "And this is its square: 4\n",
      "This is your number: 3\n",
      "And this is its square: 9\n",
      "This is your number: 4\n",
      "And this is its square: 16\n",
      "This is your number: 5\n",
      "And this is its square: 25\n",
      "This is your number: 6\n",
      "And this is its square: 36\n",
      "This is your number: 7\n",
      "And this is its square: 49\n",
      "This is your number: 8\n",
      "And this is its square: 64\n",
      "This is your number: 9\n",
      "And this is its square: 81\n",
      "This is your number: 10\n",
      "And this is its square: 100\n",
      "Done\n"
     ]
    }
   ],
   "source": [
    "#Prints de square of the numbers given by the user\n",
    "n=int(input('Enter a number: '))\n",
    "i=1\n",
    "while i<=n:\n",
    "    print('This is your number:',i)\n",
    "    po=i**2\n",
    "    print('And this is its square:',po)\n",
    "    i+=1\n",
    "print('Done')"
   ]
  },
  {
   "cell_type": "markdown",
   "id": "0f6dfe4c",
   "metadata": {},
   "source": [
    "+ Only print even numbers. We're using the reserved word 'pass' that makes it out of the loop."
   ]
  },
  {
   "cell_type": "code",
   "execution_count": 8,
   "id": "9e0f25f1",
   "metadata": {},
   "outputs": [
    {
     "name": "stdout",
     "output_type": "stream",
     "text": [
      "Enter a number: 23\n",
      "2\n",
      "4\n",
      "6\n",
      "8\n",
      "10\n",
      "12\n",
      "14\n",
      "16\n",
      "18\n",
      "20\n",
      "22\n",
      "End\n"
     ]
    }
   ],
   "source": [
    "n=int(input('Enter a number: '))\n",
    "i=1\n",
    "while i<=n:\n",
    "    if i%2==0:\n",
    "        print(i)\n",
    "    else:\n",
    "        pass\n",
    "    i+=1\n",
    "print('End')"
   ]
  },
  {
   "cell_type": "markdown",
   "id": "9a400f5a",
   "metadata": {},
   "source": [
    "+ Only print odd numbers."
   ]
  },
  {
   "cell_type": "code",
   "execution_count": 10,
   "id": "87f28846",
   "metadata": {},
   "outputs": [
    {
     "name": "stdout",
     "output_type": "stream",
     "text": [
      "Enter a number: 50\n",
      "1\n",
      "3\n",
      "5\n",
      "7\n",
      "9\n",
      "11\n",
      "13\n",
      "15\n",
      "17\n",
      "19\n",
      "21\n",
      "23\n",
      "25\n",
      "27\n",
      "29\n",
      "31\n",
      "33\n",
      "35\n",
      "37\n",
      "39\n",
      "41\n",
      "43\n",
      "45\n",
      "47\n",
      "49\n",
      "End\n"
     ]
    }
   ],
   "source": [
    "n=int(input('Enter a number: '))\n",
    "i=1\n",
    "while i<=n:\n",
    "    if i%2!=0:\n",
    "        print(i)\n",
    "    else:\n",
    "        pass\n",
    "    i+=1\n",
    "print('End')"
   ]
  },
  {
   "cell_type": "code",
   "execution_count": 17,
   "id": "f9d8f163",
   "metadata": {},
   "outputs": [
    {
     "name": "stdout",
     "output_type": "stream",
     "text": [
      "inside if\n",
      "inside if\n",
      "inside if\n",
      "inside if\n",
      "inside if\n",
      "inside if\n",
      "Something\n",
      "Something else\n"
     ]
    }
   ],
   "source": [
    "i=1\n",
    "while True:\n",
    "    if i%7!=0:\n",
    "        print('inside if')\n",
    "        i+=1\n",
    "        continue\n",
    "    print('Something')\n",
    "    print('Something else')\n",
    "    break"
   ]
  },
  {
   "cell_type": "code",
   "execution_count": 16,
   "id": "7915547f",
   "metadata": {},
   "outputs": [
    {
     "name": "stdout",
     "output_type": "stream",
     "text": [
      "Inside else\n",
      "Inside else\n",
      "Inside else\n",
      "Inside else\n",
      "Inside else\n",
      "Inside else\n",
      "Inside else\n",
      "Inside else\n",
      "Inside if\n",
      "End\n"
     ]
    }
   ],
   "source": [
    "i=1\n",
    "while True:\n",
    "    if i%9==0:\n",
    "        print('Inside if')\n",
    "        break\n",
    "    else:\n",
    "        print('Inside else')\n",
    "        i+=1\n",
    "print('End')"
   ]
  },
  {
   "cell_type": "markdown",
   "id": "e4d10481",
   "metadata": {},
   "source": [
    "+ FOR LOOP. We use 'append' to add new element to our list."
   ]
  },
  {
   "cell_type": "code",
   "execution_count": 20,
   "id": "2f8f33d1",
   "metadata": {},
   "outputs": [
    {
     "name": "stdout",
     "output_type": "stream",
     "text": [
      "1\n",
      "2\n",
      "3\n",
      "4\n",
      "5\n",
      "6\n",
      "7\n",
      "8\n",
      "9\n",
      "10\n",
      "[1, 4, 9, 16, 25, 36, 49, 64, 81, 100]\n"
     ]
    }
   ],
   "source": [
    "L=[]\n",
    "for i in range(10):\n",
    "    y=i+1\n",
    "    print(y)\n",
    "    L.append(y**2)\n",
    "print(L)"
   ]
  },
  {
   "cell_type": "code",
   "execution_count": 21,
   "id": "cde53265",
   "metadata": {},
   "outputs": [
    {
     "name": "stdout",
     "output_type": "stream",
     "text": [
      "1\n",
      "3\n",
      "5\n",
      "7\n",
      "9\n",
      "[1, 9, 25, 49, 81]\n"
     ]
    }
   ],
   "source": [
    "L=[]\n",
    "for i in range(0,10,2):\n",
    "    y=i+1\n",
    "    print(y)\n",
    "    L.append(y**2)\n",
    "print(L)"
   ]
  },
  {
   "cell_type": "code",
   "execution_count": 23,
   "id": "f01f5fe4",
   "metadata": {},
   "outputs": [
    {
     "name": "stdout",
     "output_type": "stream",
     "text": [
      "0\n",
      "2\n",
      "4\n",
      "6\n",
      "8\n",
      "[0, 4, 16, 36, 64]\n"
     ]
    }
   ],
   "source": [
    "L=[]\n",
    "for i in range(0,10,2):\n",
    "    y=i\n",
    "    print(y)\n",
    "    L.append(y**2)\n",
    "print(L)"
   ]
  },
  {
   "cell_type": "code",
   "execution_count": 28,
   "id": "7cfe8f86",
   "metadata": {},
   "outputs": [
    {
     "name": "stdout",
     "output_type": "stream",
     "text": [
      "10\n",
      "20\n",
      "30\n",
      "40\n",
      "50\n",
      "60\n",
      "70\n",
      "80\n",
      "90\n",
      "100\n",
      "[100, 400, 900, 1600, 2500, 3600, 4900, 6400, 8100, 10000]\n"
     ]
    }
   ],
   "source": [
    "L=[]\n",
    "for i in range(10,110,10):\n",
    "    y=i\n",
    "    print(y)\n",
    "    L.append(y**2)\n",
    "print(L)"
   ]
  },
  {
   "cell_type": "markdown",
   "id": "c1921cf3",
   "metadata": {},
   "source": [
    "+ An example of the for loop in a list."
   ]
  },
  {
   "cell_type": "code",
   "execution_count": 7,
   "id": "4d40faf7",
   "metadata": {},
   "outputs": [
    {
     "name": "stdout",
     "output_type": "stream",
     "text": [
      "cherry\n",
      "hello\n",
      "5.6\n"
     ]
    }
   ],
   "source": [
    "S={\"hello\",5.6,\"cherry\"}\n",
    "i=0\n",
    "for x in S:\n",
    "    print(x)\n",
    "    i+=1\n",
    "    if i==3:\n",
    "        break\n",
    "    else:\n",
    "        pass\n",
    "else:\n",
    "    print('Loop completes its iterations')"
   ]
  },
  {
   "cell_type": "markdown",
   "id": "b06d2446",
   "metadata": {},
   "source": [
    "# Dictionary"
   ]
  },
  {
   "cell_type": "markdown",
   "id": "caaea928",
   "metadata": {},
   "source": [
    "+ To declare a dictionary we first open keys and the first thing we have to write between inverted commas is the key and then put a colon to put the value of the key."
   ]
  },
  {
   "cell_type": "code",
   "execution_count": 8,
   "id": "a6894144",
   "metadata": {},
   "outputs": [
    {
     "name": "stdout",
     "output_type": "stream",
     "text": [
      "age: 17\n",
      "name: Manu\n",
      "phone number: 5571190185\n"
     ]
    }
   ],
   "source": [
    "D={'age:':17,'name:':'Manu','phone number:':5571190185}\n",
    "for x in D:\n",
    "    print(x,D[x])"
   ]
  },
  {
   "cell_type": "markdown",
   "id": "ccecd36a",
   "metadata": {},
   "source": [
    "+ What is printed first inside the for is the key and then we must put the value of the key inside the dictionary."
   ]
  },
  {
   "cell_type": "code",
   "execution_count": 4,
   "id": "d7239502",
   "metadata": {},
   "outputs": [
    {
     "name": "stdout",
     "output_type": "stream",
     "text": [
      "The title of the book is:  Divine Comedy\n",
      "Title: Divine Comedy\n",
      "Author: Dante Alighieri\n",
      "Genre: Literary\n",
      "Type: Epic poem\n",
      "Date of publication: 1472\n"
     ]
    }
   ],
   "source": [
    "D_ofBook={'Title:':'Divine Comedy','Author:':'Dante Alighieri','Genre:':'Literary','Type:':'Epic poem','Date of publication:':1472}\n",
    "print('The title of the book is: ',D_ofBook['Title:'])\n",
    "for x in D_ofBook:\n",
    "    print(x,D_ofBook[x])"
   ]
  },
  {
   "cell_type": "markdown",
   "id": "44e50e07",
   "metadata": {},
   "source": [
    "+ Exercise of dictionary."
   ]
  },
  {
   "cell_type": "code",
   "execution_count": 38,
   "id": "a032d85b",
   "metadata": {},
   "outputs": [
    {
     "name": "stdout",
     "output_type": "stream",
     "text": [
      "[-43, -12, -5, 1, 2, 2, 3, 4, 7, 7, 9, 23, 34, 223]\n"
     ]
    }
   ],
   "source": [
    "\"\"\"\n",
    "Given a list of numbers i.e. [1,2,4,-5,7,9,3,2...], make another list that contains all\n",
    "the items in sorted order from min to max. i.e. your result will be another list like\n",
    "[-5,1,2,2,3,3,7,9...]\n",
    "\"\"\"\n",
    "\n",
    "L=[1,2,4,-5,7,9,3,2,7,34,23,-43,223,-12]\n",
    "#First, we have the loop that gives us the last number of the list and to tell us how many numbers there are in the list\n",
    "for j in range(len(L)):\n",
    "    #m is a variable that gives us the last number\n",
    "    m=L[j]\n",
    "    #idx is a variable that give us the number of elements that contains our list, starting from 0 \n",
    "    idx=j\n",
    "    #We use c to create a counter\n",
    "    c=j\n",
    "    \n",
    "    #We are using this loop to limit the space that can contains our new list \n",
    "    for i in range(j,len(L)):\n",
    "        if L[i]<m:\n",
    "            m=L[i]\n",
    "            idx=c\n",
    "        c+=1\n",
    "    tmp=L[j]\n",
    "    L[j]=m\n",
    "    L[idx]=tmp\n",
    "print(L)   "
   ]
  },
  {
   "cell_type": "code",
   "execution_count": 26,
   "id": "fb2e16b5",
   "metadata": {},
   "outputs": [
    {
     "name": "stdout",
     "output_type": "stream",
     "text": [
      "Help on class range in module builtins:\n",
      "\n",
      "class range(object)\n",
      " |  range(stop) -> range object\n",
      " |  range(start, stop[, step]) -> range object\n",
      " |  \n",
      " |  Return an object that produces a sequence of integers from start (inclusive)\n",
      " |  to stop (exclusive) by step.  range(i, j) produces i, i+1, i+2, ..., j-1.\n",
      " |  start defaults to 0, and stop is omitted!  range(4) produces 0, 1, 2, 3.\n",
      " |  These are exactly the valid indices for a list of 4 elements.\n",
      " |  When step is given, it specifies the increment (or decrement).\n",
      " |  \n",
      " |  Methods defined here:\n",
      " |  \n",
      " |  __bool__(self, /)\n",
      " |      True if self else False\n",
      " |  \n",
      " |  __contains__(self, key, /)\n",
      " |      Return key in self.\n",
      " |  \n",
      " |  __eq__(self, value, /)\n",
      " |      Return self==value.\n",
      " |  \n",
      " |  __ge__(self, value, /)\n",
      " |      Return self>=value.\n",
      " |  \n",
      " |  __getattribute__(self, name, /)\n",
      " |      Return getattr(self, name).\n",
      " |  \n",
      " |  __getitem__(self, key, /)\n",
      " |      Return self[key].\n",
      " |  \n",
      " |  __gt__(self, value, /)\n",
      " |      Return self>value.\n",
      " |  \n",
      " |  __hash__(self, /)\n",
      " |      Return hash(self).\n",
      " |  \n",
      " |  __iter__(self, /)\n",
      " |      Implement iter(self).\n",
      " |  \n",
      " |  __le__(self, value, /)\n",
      " |      Return self<=value.\n",
      " |  \n",
      " |  __len__(self, /)\n",
      " |      Return len(self).\n",
      " |  \n",
      " |  __lt__(self, value, /)\n",
      " |      Return self<value.\n",
      " |  \n",
      " |  __ne__(self, value, /)\n",
      " |      Return self!=value.\n",
      " |  \n",
      " |  __reduce__(...)\n",
      " |      Helper for pickle.\n",
      " |  \n",
      " |  __repr__(self, /)\n",
      " |      Return repr(self).\n",
      " |  \n",
      " |  __reversed__(...)\n",
      " |      Return a reverse iterator.\n",
      " |  \n",
      " |  count(...)\n",
      " |      rangeobject.count(value) -> integer -- return number of occurrences of value\n",
      " |  \n",
      " |  index(...)\n",
      " |      rangeobject.index(value) -> integer -- return index of value.\n",
      " |      Raise ValueError if the value is not present.\n",
      " |  \n",
      " |  ----------------------------------------------------------------------\n",
      " |  Static methods defined here:\n",
      " |  \n",
      " |  __new__(*args, **kwargs) from builtins.type\n",
      " |      Create and return a new object.  See help(type) for accurate signature.\n",
      " |  \n",
      " |  ----------------------------------------------------------------------\n",
      " |  Data descriptors defined here:\n",
      " |  \n",
      " |  start\n",
      " |  \n",
      " |  step\n",
      " |  \n",
      " |  stop\n",
      "\n"
     ]
    }
   ],
   "source": [
    "help(range)"
   ]
  },
  {
   "cell_type": "markdown",
   "id": "b1e3bd42",
   "metadata": {},
   "source": [
    "# Functions"
   ]
  },
  {
   "cell_type": "code",
   "execution_count": 42,
   "id": "e59ec4a4",
   "metadata": {},
   "outputs": [
    {
     "name": "stdout",
     "output_type": "stream",
     "text": [
      "Hello\n",
      "bYE\n",
      "OH\n"
     ]
    }
   ],
   "source": [
    "def printWords():\n",
    "    \"\"\"This function does nothing\n",
    "    Just show a few words\"\"\"\n",
    "    print('Hello')\n",
    "    print('bYE')\n",
    "    print('OH')\n",
    "\n",
    "printWords()"
   ]
  },
  {
   "cell_type": "markdown",
   "id": "8fd15bd1",
   "metadata": {},
   "source": [
    "+ If we want to know what is doing our function we just have to write its name followed by a question mark. This action will show us the DocString that we put inside the function."
   ]
  },
  {
   "cell_type": "code",
   "execution_count": 45,
   "id": "b62637d1",
   "metadata": {},
   "outputs": [],
   "source": [
    "printWords?"
   ]
  },
  {
   "cell_type": "markdown",
   "id": "b441ca86",
   "metadata": {},
   "source": [
    "+ Functions with input arguments."
   ]
  },
  {
   "cell_type": "code",
   "execution_count": 47,
   "id": "af40e155",
   "metadata": {},
   "outputs": [
    {
     "name": "stdout",
     "output_type": "stream",
     "text": [
      "This is the word that my function will print\n",
      "Good Bye\n"
     ]
    }
   ],
   "source": [
    "def printMessage(msg):\n",
    "    print(msg)\n",
    "    \n",
    "printMessage('This is the word that my function will print')\n",
    "printMessage('Good Bye')"
   ]
  },
  {
   "cell_type": "code",
   "execution_count": 57,
   "id": "f5484b40",
   "metadata": {},
   "outputs": [
    {
     "name": "stdout",
     "output_type": "stream",
     "text": [
      "Your message must be a string\n",
      "The message is type <class 'int'>\n",
      "This is a string\n"
     ]
    }
   ],
   "source": [
    "def cmessage(msg):\n",
    "    \"\"\"This function receives an argument, if the argument is a string it will be printed, if this is not the case\n",
    "    will show a different message\"\"\"\n",
    "    if isinstance(msg,str):\n",
    "        print(msg)\n",
    "    else:\n",
    "        print('Your message must be a string')\n",
    "        print('The message is type',type(msg))\n",
    "        \n",
    "cmessage(23)\n",
    "cmessage('This is a string')"
   ]
  },
  {
   "cell_type": "code",
   "execution_count": 67,
   "id": "c1ee3722",
   "metadata": {},
   "outputs": [
    {
     "name": "stdout",
     "output_type": "stream",
     "text": [
      "16\n"
     ]
    }
   ],
   "source": [
    "def mypow(a,b):\n",
    "    if type(a)==int and type(b)==int:\n",
    "        c=a**b\n",
    "        print(c)\n",
    "    else:\n",
    "        print('Your inputs must be integers')\n",
    "mypow(2,4)"
   ]
  },
  {
   "cell_type": "code",
   "execution_count": 68,
   "id": "50cc0e0b",
   "metadata": {},
   "outputs": [],
   "source": [
    "def cargs(a,b,c):\n",
    "    if isinstance(a,(int,float)) and isinstance(b,(int,float)) and isinstance(c,(int,float)):\n",
    "        print((a+b+c)**2)\n",
    "    else: \n",
    "        print('ERROR: The numbers must be int or float types')"
   ]
  },
  {
   "cell_type": "code",
   "execution_count": 69,
   "id": "3d95a6e7",
   "metadata": {},
   "outputs": [
    {
     "name": "stdout",
     "output_type": "stream",
     "text": [
      "ERROR: The numbers must be int or float types\n"
     ]
    }
   ],
   "source": [
    "cargs(2,3.5,'a')"
   ]
  },
  {
   "cell_type": "code",
   "execution_count": 71,
   "id": "ebaf996e",
   "metadata": {},
   "outputs": [
    {
     "name": "stdout",
     "output_type": "stream",
     "text": [
      "169.0\n"
     ]
    }
   ],
   "source": [
    "cargs(2,3.5,7.5)"
   ]
  },
  {
   "cell_type": "markdown",
   "id": "3fc4f6a2",
   "metadata": {},
   "source": [
    "+ Order of input arguments."
   ]
  },
  {
   "cell_type": "code",
   "execution_count": 72,
   "id": "1c73f70c",
   "metadata": {},
   "outputs": [],
   "source": [
    "def f(a,b,c):\n",
    "    print('A is:',a)\n",
    "    print('B is:',b)\n",
    "    print('C is:',c)"
   ]
  },
  {
   "cell_type": "code",
   "execution_count": 73,
   "id": "6db8fd3a",
   "metadata": {},
   "outputs": [
    {
     "name": "stdout",
     "output_type": "stream",
     "text": [
      "A is: 2\n",
      "B is: 4.5\n",
      "C is: game\n"
     ]
    }
   ],
   "source": [
    "f(2,4.5,'game')"
   ]
  },
  {
   "cell_type": "code",
   "execution_count": 74,
   "id": "6642e9df",
   "metadata": {},
   "outputs": [
    {
     "name": "stdout",
     "output_type": "stream",
     "text": [
      "A is: 345\n",
      "B is: 12.45\n",
      "C is: halo\n"
     ]
    }
   ],
   "source": [
    "f(c='halo',a=345,b=12.45)"
   ]
  },
  {
   "cell_type": "markdown",
   "id": "33ff3d77",
   "metadata": {},
   "source": [
    "+ Variables inside"
   ]
  },
  {
   "cell_type": "code",
   "execution_count": 78,
   "id": "aae034e1",
   "metadata": {},
   "outputs": [
    {
     "data": {
      "text/plain": [
       "54"
      ]
     },
     "execution_count": 78,
     "metadata": {},
     "output_type": "execute_result"
    }
   ],
   "source": [
    "def add(x,y):\n",
    "    z=x+y \n",
    "    return z\n",
    "add(34,20)"
   ]
  },
  {
   "cell_type": "markdown",
   "id": "3b6997ec",
   "metadata": {},
   "source": [
    "+ We cannot call a variable that been inside the function."
   ]
  },
  {
   "cell_type": "code",
   "execution_count": 77,
   "id": "d92db5a8",
   "metadata": {},
   "outputs": [
    {
     "ename": "NameError",
     "evalue": "name 'z' is not defined",
     "output_type": "error",
     "traceback": [
      "\u001b[1;31m---------------------------------------------------------------------------\u001b[0m",
      "\u001b[1;31mNameError\u001b[0m                                 Traceback (most recent call last)",
      "\u001b[1;32m~\\AppData\\Local\\Temp\\ipykernel_20188\\557461111.py\u001b[0m in \u001b[0;36m<module>\u001b[1;34m\u001b[0m\n\u001b[1;32m----> 1\u001b[1;33m \u001b[0mprint\u001b[0m\u001b[1;33m(\u001b[0m\u001b[0mz\u001b[0m\u001b[1;33m)\u001b[0m\u001b[1;33m\u001b[0m\u001b[1;33m\u001b[0m\u001b[0m\n\u001b[0m",
      "\u001b[1;31mNameError\u001b[0m: name 'z' is not defined"
     ]
    }
   ],
   "source": [
    "print(z)"
   ]
  },
  {
   "cell_type": "code",
   "execution_count": 79,
   "id": "c54346e8",
   "metadata": {},
   "outputs": [
    {
     "name": "stdout",
     "output_type": "stream",
     "text": [
      "40\n"
     ]
    }
   ],
   "source": [
    "d=add(20,20)\n",
    "print(d)"
   ]
  },
  {
   "cell_type": "markdown",
   "id": "657f8a5d",
   "metadata": {},
   "source": [
    "+ The thing that we can do is call or use a global variable that been outside a function."
   ]
  },
  {
   "cell_type": "code",
   "execution_count": 81,
   "id": "da667b2e",
   "metadata": {},
   "outputs": [],
   "source": [
    "x=23"
   ]
  },
  {
   "cell_type": "code",
   "execution_count": 87,
   "id": "50dc977b",
   "metadata": {},
   "outputs": [],
   "source": [
    "def gi():\n",
    "    print(x)"
   ]
  },
  {
   "cell_type": "code",
   "execution_count": 88,
   "id": "aead550b",
   "metadata": {},
   "outputs": [
    {
     "name": "stdout",
     "output_type": "stream",
     "text": [
      "23\n"
     ]
    }
   ],
   "source": [
    "gi()"
   ]
  },
  {
   "cell_type": "code",
   "execution_count": 89,
   "id": "649887a7",
   "metadata": {},
   "outputs": [
    {
     "name": "stdout",
     "output_type": "stream",
     "text": [
      "10\n"
     ]
    }
   ],
   "source": [
    "def gi2():\n",
    "    x=10\n",
    "    print(x)\n",
    "gi2()"
   ]
  },
  {
   "cell_type": "code",
   "execution_count": 90,
   "id": "7adf4d98",
   "metadata": {},
   "outputs": [
    {
     "data": {
      "text/plain": [
       "23"
      ]
     },
     "execution_count": 90,
     "metadata": {},
     "output_type": "execute_result"
    }
   ],
   "source": [
    "x"
   ]
  },
  {
   "cell_type": "code",
   "execution_count": 91,
   "id": "279e5c2b",
   "metadata": {},
   "outputs": [
    {
     "name": "stdout",
     "output_type": "stream",
     "text": [
      "10\n",
      "<class 'NoneType'>\n"
     ]
    }
   ],
   "source": [
    "print(type(gi2()))"
   ]
  },
  {
   "cell_type": "code",
   "execution_count": 92,
   "id": "8048bc82",
   "metadata": {},
   "outputs": [],
   "source": [
    "def r():\n",
    "    a=5\n",
    "    b=7\n",
    "    c='something'\n",
    "    return a,b,c"
   ]
  },
  {
   "cell_type": "code",
   "execution_count": 94,
   "id": "2a49a796",
   "metadata": {},
   "outputs": [
    {
     "name": "stdout",
     "output_type": "stream",
     "text": [
      "5 7 something\n"
     ]
    }
   ],
   "source": [
    "x,y,z=r()\n",
    "print(x,y,z)"
   ]
  },
  {
   "cell_type": "markdown",
   "id": "afe5d1ef",
   "metadata": {},
   "source": [
    "+ Variable numbers of input arguments. To have different inputs on the arguments we have to use the * symbol and then put the name of variable."
   ]
  },
  {
   "cell_type": "code",
   "execution_count": 95,
   "id": "7feb5242",
   "metadata": {},
   "outputs": [],
   "source": [
    "def add(*args):\n",
    "    sum=0\n",
    "    for i in range(len(args)):\n",
    "        sum+=args[i]\n",
    "    return sum"
   ]
  },
  {
   "cell_type": "code",
   "execution_count": 97,
   "id": "d1996b07",
   "metadata": {},
   "outputs": [
    {
     "data": {
      "text/plain": [
       "46"
      ]
     },
     "execution_count": 97,
     "metadata": {},
     "output_type": "execute_result"
    }
   ],
   "source": [
    "add(2,3,4,6,1,4,12,14)"
   ]
  },
  {
   "cell_type": "markdown",
   "id": "4855f85f",
   "metadata": {},
   "source": [
    "+ Variable numbers of input arguments. We have to use ** to instance certain number of values."
   ]
  },
  {
   "cell_type": "code",
   "execution_count": 101,
   "id": "ad3b2f68",
   "metadata": {},
   "outputs": [
    {
     "name": "stdout",
     "output_type": "stream",
     "text": [
      "Variable name is: c1 and its value is: 23.3\n",
      "Variable name is: c2 and its value is: wave\n",
      "Variable name is: c3 and its value is: 21\n",
      "Variable name is: c4 and its value is: eyy\n",
      "Variable name is: c5 and its value is: aoll\n"
     ]
    }
   ],
   "source": [
    "def argsc(**c):\n",
    "    for x in c:\n",
    "        print('Variable name is:',x,'and its value is:',c[x])\n",
    "argsc(c1=23.3, c2='wave', c3=21, c4='eyy', c5='aoll')"
   ]
  },
  {
   "cell_type": "markdown",
   "id": "c439750d",
   "metadata": {},
   "source": [
    "+ Default values."
   ]
  },
  {
   "cell_type": "code",
   "execution_count": 103,
   "id": "3e8a3017",
   "metadata": {},
   "outputs": [
    {
     "name": "stdout",
     "output_type": "stream",
     "text": [
      "2341\n"
     ]
    }
   ],
   "source": [
    "def fs(sum=0):\n",
    "    print(sum)\n",
    "fs(2341)"
   ]
  },
  {
   "cell_type": "code",
   "execution_count": 104,
   "id": "7b8de4d7",
   "metadata": {},
   "outputs": [
    {
     "name": "stdout",
     "output_type": "stream",
     "text": [
      "[2, 12, 4]\n"
     ]
    }
   ],
   "source": [
    "L=[2,31,4]\n",
    "L2=L\n",
    "L2[1]=12\n",
    "print(L2)"
   ]
  },
  {
   "cell_type": "code",
   "execution_count": 114,
   "id": "86f260ab",
   "metadata": {},
   "outputs": [],
   "source": [
    "def defaultv(l=[1,2]):\n",
    "    for i in l:\n",
    "        print(i)"
   ]
  },
  {
   "cell_type": "code",
   "execution_count": 119,
   "id": "f276076e",
   "metadata": {},
   "outputs": [
    {
     "name": "stdout",
     "output_type": "stream",
     "text": [
      "1\n",
      "2\n",
      "-----\n",
      "2\n",
      "12\n",
      "4\n",
      "-----\n",
      "2\n",
      "31\n",
      "4\n"
     ]
    }
   ],
   "source": [
    "L=[2,31,4]\n",
    "defaultv()\n",
    "print('-----')\n",
    "defaultv(L2)\n",
    "print('-----')\n",
    "defaultv(L)"
   ]
  }
 ],
 "metadata": {
  "kernelspec": {
   "display_name": "Python 3 (ipykernel)",
   "language": "python",
   "name": "python3"
  },
  "language_info": {
   "codemirror_mode": {
    "name": "ipython",
    "version": 3
   },
   "file_extension": ".py",
   "mimetype": "text/x-python",
   "name": "python",
   "nbconvert_exporter": "python",
   "pygments_lexer": "ipython3",
   "version": "3.9.13"
  }
 },
 "nbformat": 4,
 "nbformat_minor": 5
}
